{
 "cells": [
  {
   "cell_type": "code",
   "execution_count": null,
   "metadata": {
    "collapsed": true
   },
   "outputs": [],
   "source": [
    "import math"
   ]
  },
  {
   "cell_type": "code",
   "execution_count": null,
   "metadata": {
    "collapsed": true
   },
   "outputs": [],
   "source": [
    "def fact(n):\n",
    "    '''(int) -> int\n",
    "\n",
    "    Precondition: n >= 0\n",
    "\n",
    "    Return n!\n",
    "\n",
    "    Examples:\n",
    "    >>> fact(5)\n",
    "    5\n",
    "    >>> fact(10)\n",
    "    3628800\n",
    "\n",
    "    '''\n",
    "\n",
    "    accum = 1\n",
    "\n",
    "    for i in range( 1, n + 1):\n",
    "        accum *= i\n",
    "\n",
    "    return accum"
   ]
  },
  {
   "cell_type": "code",
   "execution_count": null,
   "metadata": {
    "collapsed": false
   },
   "outputs": [],
   "source": [
    "help(fact)"
   ]
  },
  {
   "cell_type": "code",
   "execution_count": null,
   "metadata": {
    "collapsed": true
   },
   "outputs": [],
   "source": [
    "def fact_recursive (n):\n",
    "    '''(int) -> int\n",
    "\n",
    "    Precondition: n >= 0\n",
    "\n",
    "    Return n!\n",
    "\n",
    "    Examples:\n",
    "    >>> fact(5)\n",
    "    5\n",
    "    >>> fact(10)\n",
    "    3628800\n",
    "\n",
    "    '''\n",
    "\n",
    "    return 1 if n == 1 else n * fact_recursive(n - 1)"
   ]
  },
  {
   "cell_type": "code",
   "execution_count": null,
   "metadata": {
    "collapsed": true
   },
   "outputs": [],
   "source": [
    "def reduce_factorial (n):\n",
    "    '''(int) -> int\n",
    "\n",
    "    Precondition: n >= 0\n",
    "\n",
    "    Return n!\n",
    "\n",
    "    Examples:\n",
    "    >>> fact(5)\n",
    "    5\n",
    "    >>> fact(10)\n",
    "    3628800\n",
    "\n",
    "    '''\n",
    "\n",
    "    from functools import reduce\n",
    "    return reduce((lambda x, y : x * y), range( 1, n + 1 ) )"
   ]
  },
  {
   "cell_type": "code",
   "execution_count": null,
   "metadata": {
    "collapsed": true
   },
   "outputs": [],
   "source": [
    "j = 5"
   ]
  },
  {
   "cell_type": "code",
   "execution_count": null,
   "metadata": {
    "collapsed": false
   },
   "outputs": [],
   "source": [
    "print('{}! = {}'.format( j, fact ( j ) ) )"
   ]
  },
  {
   "cell_type": "code",
   "execution_count": null,
   "metadata": {
    "collapsed": false
   },
   "outputs": [],
   "source": [
    "print('{}'.format('Agree' if fact(j) == fact_recursive(j) else 'Ups' ) )"
   ]
  },
  {
   "cell_type": "code",
   "execution_count": null,
   "metadata": {
    "collapsed": false
   },
   "outputs": [],
   "source": [
    "print('{}'.format('Really Agree' if fact(j) == math.factorial(j) else 'Ups' ) )"
   ]
  },
  {
   "cell_type": "code",
   "execution_count": null,
   "metadata": {
    "collapsed": false
   },
   "outputs": [],
   "source": [
    "print('{}'.format('Really Really Agree' \n",
    "    if fact(j) == reduce_factorial(j) else 'Ups' ) )"
   ]
  }
 ],
 "metadata": {
  "anaconda-cloud": {},
  "kernelspec": {
   "display_name": "Python [default]",
   "language": "python",
   "name": "python3"
  },
  "language_info": {
   "codemirror_mode": {
    "name": "ipython",
    "version": 3
   },
   "file_extension": ".py",
   "mimetype": "text/x-python",
   "name": "python",
   "nbconvert_exporter": "python",
   "pygments_lexer": "ipython3",
   "version": "3.5.2"
  }
 },
 "nbformat": 4,
 "nbformat_minor": 1
}
