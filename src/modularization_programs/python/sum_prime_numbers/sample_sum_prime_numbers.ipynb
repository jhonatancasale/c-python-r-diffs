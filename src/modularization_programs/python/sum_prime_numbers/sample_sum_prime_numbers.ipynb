{
 "cells": [
  {
   "cell_type": "code",
   "execution_count": null,
   "metadata": {
    "collapsed": true
   },
   "outputs": [],
   "source": [
    "def isPrime( n ):\n",
    "    '''(int) -> bool\n",
    "\n",
    "    Return True if the given number n is a prime number return False otherwise\n",
    "    '''\n",
    "\n",
    "    if n <= 1: return False\n",
    "\n",
    "    for i in range(2, n):\n",
    "        if n % i == 0: return False\n",
    "\n",
    "    return True"
   ]
  },
  {
   "cell_type": "code",
   "execution_count": null,
   "metadata": {
    "collapsed": true
   },
   "outputs": [],
   "source": [
    "def sumPrimes(start, end):\n",
    "    '''(int, int) -> int\n",
    "\n",
    "    Pre: start > 0\n",
    "         end > start\n",
    "\n",
    "    Return the sum of prime numbers between start and end\n",
    "    '''\n",
    "\n",
    "    partial = 0\n",
    "    for i in range( start, end + 1 ):\n",
    "        if isPrime( i ):  partial += i\n",
    "\n",
    "    return partial"
   ]
  },
  {
   "cell_type": "code",
   "execution_count": null,
   "metadata": {
    "collapsed": true
   },
   "outputs": [],
   "source": [
    "def sumPrimes2(start, end):\n",
    "    '''(int, int) -> int\n",
    "\n",
    "    Pre: start > 0\n",
    "         end > start\n",
    "\n",
    "    Return the sum of prime numbers between start and end\n",
    "    '''\n",
    "\n",
    "    elements = []\n",
    "    for i in range(start, end + 1):\n",
    "        if isPrime( i ): elements.append( i )\n",
    "\n",
    "    return sum( elements )"
   ]
  },
  {
   "cell_type": "code",
   "execution_count": null,
   "metadata": {
    "collapsed": true
   },
   "outputs": [],
   "source": [
    "import random\n",
    "j = random.choice( range(2, 101) )"
   ]
  },
  {
   "cell_type": "code",
   "execution_count": null,
   "metadata": {
    "collapsed": true
   },
   "outputs": [],
   "source": [
    "primes = []\n",
    "for i in range(2, j + 1):\n",
    "    if isPrime( i ): primes.append( i )"
   ]
  },
  {
   "cell_type": "code",
   "execution_count": null,
   "metadata": {
    "collapsed": false
   },
   "outputs": [],
   "source": [
    "print( '[2, {}].primes => {}'.format( j, primes ) )"
   ]
  },
  {
   "cell_type": "code",
   "execution_count": null,
   "metadata": {
    "collapsed": false
   },
   "outputs": [],
   "source": [
    "print( '[2, {}].sum_primes => {}'.format( j, sumPrimes( 2, j ) ) )"
   ]
  },
  {
   "cell_type": "code",
   "execution_count": null,
   "metadata": {
    "collapsed": false
   },
   "outputs": [],
   "source": [
    "print( '[2, {}].sum_primes => {}'.format( j, sumPrimes2( 2, j ) ) )"
   ]
  },
  {
   "cell_type": "code",
   "execution_count": null,
   "metadata": {
    "collapsed": false
   },
   "outputs": [],
   "source": [
    "help(sumPrimes2)"
   ]
  },
  {
   "cell_type": "code",
   "execution_count": null,
   "metadata": {
    "collapsed": false
   },
   "outputs": [],
   "source": [
    "help(isPrime)"
   ]
  }
 ],
 "metadata": {
  "anaconda-cloud": {},
  "kernelspec": {
   "display_name": "Python [conda root]",
   "language": "python",
   "name": "conda-root-py"
  },
  "language_info": {
   "codemirror_mode": {
    "name": "ipython",
    "version": 3
   },
   "file_extension": ".py",
   "mimetype": "text/x-python",
   "name": "python",
   "nbconvert_exporter": "python",
   "pygments_lexer": "ipython3",
   "version": "3.5.2"
  }
 },
 "nbformat": 4,
 "nbformat_minor": 1
}
